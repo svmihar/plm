{
 "cells": [
  {
   "cell_type": "markdown",
   "metadata": {},
   "source": [
    "# belajar matlab \n",
    "## sumber \n",
    "matlab a practical approach \n",
    "\n",
    "> god help all this matlab shit, python will rule the world. \n",
    "\n",
    "why we need God with matlab \n",
    "![](https://i.imgur.com/VRSkSGd.jpg)"
   ]
  },
  {
   "cell_type": "markdown",
   "metadata": {},
   "source": [
    "## operator "
   ]
  },
  {
   "cell_type": "code",
   "execution_count": 43,
   "metadata": {},
   "outputs": [
    {
     "name": "stdout",
     "output_type": "stream",
     "text": [
      "\n",
      "ans =\n",
      "\n",
      "     3\n",
      "\n",
      "\n",
      "ans =\n",
      "\n",
      "    -2\n",
      "\n",
      "\n",
      "ans =\n",
      "\n",
      "     2\n",
      "\n",
      "\n"
     ]
    }
   ],
   "source": [
    "1+2 \n",
    "1-3\n",
    "1*2"
   ]
  },
  {
   "cell_type": "markdown",
   "metadata": {},
   "source": [
    "### division di matlab agak unik \n",
    "*/ (10/5, itu hasilnya 2)*     \n",
    "*\\ (10\\5, itu hasilnya 1/2)*     "
   ]
  },
  {
   "cell_type": "code",
   "execution_count": 4,
   "metadata": {},
   "outputs": [
    {
     "name": "stdout",
     "output_type": "stream",
     "text": [
      "\n",
      "ans =\n",
      "\n",
      "     2\n",
      "\n",
      "\n",
      "ans =\n",
      "\n",
      "    0.5000\n",
      "\n",
      "\n"
     ]
    }
   ],
   "source": [
    "10/5\n",
    "10\\5"
   ]
  },
  {
   "cell_type": "code",
   "execution_count": 5,
   "metadata": {},
   "outputs": [
    {
     "name": "stdout",
     "output_type": "stream",
     "text": [
      "\n",
      "ans =\n",
      "\n",
      "   100\n",
      "\n",
      "\n"
     ]
    }
   ],
   "source": [
    "10^2"
   ]
  },
  {
   "cell_type": "code",
   "execution_count": 6,
   "metadata": {},
   "outputs": [
    {
     "name": "stdout",
     "output_type": "stream",
     "text": [
      "\n",
      "ans =\n",
      "\n",
      "  int64\n",
      "\n",
      "   9223372036854775807\n",
      "\n",
      "\n"
     ]
    }
   ],
   "source": [
    "intmax('int64')"
   ]
  },
  {
   "cell_type": "code",
   "execution_count": 7,
   "metadata": {},
   "outputs": [
    {
     "name": "stdout",
     "output_type": "stream",
     "text": [
      "\n",
      "ans =\n",
      "\n",
      "    3.1416\n",
      "\n",
      "\n",
      "ans =\n",
      "\n",
      "   0.0000 + 1.0000i\n",
      "\n",
      "\n",
      "ans =\n",
      "\n",
      "   0.0000 + 1.0000i\n",
      "\n",
      "\n",
      "ans =\n",
      "\n",
      "   Inf\n",
      "\n",
      "\n",
      "ans =\n",
      "\n",
      "   NaN\n",
      "\n",
      "\n"
     ]
    }
   ],
   "source": [
    "%constants\n",
    "pi \n",
    "i\n",
    "j\n",
    "inf \n",
    "NaN"
   ]
  },
  {
   "cell_type": "markdown",
   "metadata": {},
   "source": [
    "## random numbers"
   ]
  },
  {
   "cell_type": "code",
   "execution_count": 8,
   "metadata": {},
   "outputs": [
    {
     "name": "stdout",
     "output_type": "stream",
     "text": [
      "\n",
      "ans =\n",
      "\n",
      "    0.8147\n",
      "\n",
      "\n"
     ]
    }
   ],
   "source": [
    "rand"
   ]
  },
  {
   "cell_type": "markdown",
   "metadata": {},
   "source": [
    "### random number with high-low value"
   ]
  },
  {
   "cell_type": "code",
   "execution_count": 9,
   "metadata": {},
   "outputs": [
    {
     "name": "stdout",
     "output_type": "stream",
     "text": [
      "\n",
      "low =\n",
      "\n",
      "     1\n",
      "\n",
      "\n",
      "high =\n",
      "\n",
      "    10\n",
      "\n",
      "\n",
      "ans =\n",
      "\n",
      "    9.1521\n",
      "\n",
      "\n"
     ]
    }
   ],
   "source": [
    "low = 1\n",
    "high = 10\n",
    "rand*(high-low)+low"
   ]
  },
  {
   "cell_type": "markdown",
   "metadata": {},
   "source": [
    "## creating vector and matrices"
   ]
  },
  {
   "cell_type": "markdown",
   "metadata": {},
   "source": [
    "## row vector"
   ]
  },
  {
   "cell_type": "code",
   "execution_count": 10,
   "metadata": {},
   "outputs": [
    {
     "name": "stdout",
     "output_type": "stream",
     "text": [
      "\n",
      "v =\n",
      "\n",
      "     1     2     3     4\n",
      "\n",
      "\n"
     ]
    }
   ],
   "source": [
    "v = [1 2 3 4]"
   ]
  },
  {
   "cell_type": "code",
   "execution_count": 11,
   "metadata": {},
   "outputs": [
    {
     "name": "stdout",
     "output_type": "stream",
     "text": [
      "\n",
      "v =\n",
      "\n",
      "     1     2     3     4\n",
      "\n",
      "\n"
     ]
    }
   ],
   "source": [
    "v = 1:4"
   ]
  },
  {
   "cell_type": "markdown",
   "metadata": {},
   "source": [
    "### step value \n",
    "(start value) : (increment value) : (end value)"
   ]
  },
  {
   "cell_type": "code",
   "execution_count": 12,
   "metadata": {},
   "outputs": [
    {
     "name": "stdout",
     "output_type": "stream",
     "text": [
      "\n",
      "nv =\n",
      "\n",
      "     1     3     5     7     9\n",
      "\n",
      "\n"
     ]
    }
   ],
   "source": [
    "% step value\n",
    "nv = 1:2:9"
   ]
  },
  {
   "cell_type": "code",
   "execution_count": 13,
   "metadata": {},
   "outputs": [
    {
     "name": "stdout",
     "output_type": "stream",
     "text": [
      "\n",
      "nv =\n",
      "\n",
      "     9     7     5     3     1\n",
      "\n",
      "\n"
     ]
    }
   ],
   "source": [
    "nv = 9:-2:1"
   ]
  },
  {
   "cell_type": "markdown",
   "metadata": {},
   "source": [
    "####  step value pake linspace \n",
    "linspace(x,y,n)\n",
    "berarti dari range x sampe y, dengan banyak n kali"
   ]
  },
  {
   "cell_type": "code",
   "execution_count": 14,
   "metadata": {},
   "outputs": [
    {
     "name": "stdout",
     "output_type": "stream",
     "text": [
      "\n",
      "nv =\n",
      "\n",
      "     1     3     5     7     9\n",
      "\n",
      "\n"
     ]
    }
   ],
   "source": [
    "nv = linspace(1,9,5)"
   ]
  },
  {
   "cell_type": "code",
   "execution_count": 15,
   "metadata": {},
   "outputs": [
    {
     "name": "stdout",
     "output_type": "stream",
     "text": [
      "\n",
      "nv =\n",
      "\n",
      "     3     6     9    12    15\n",
      "\n",
      "\n"
     ]
    }
   ],
   "source": [
    "nv = linspace(3,15,5)"
   ]
  },
  {
   "cell_type": "code",
   "execution_count": 71,
   "metadata": {},
   "outputs": [
    {
     "name": "stdout",
     "output_type": "stream",
     "text": [
      "\n",
      "v =\n",
      "\n",
      "    -3    -6    -9   -12   -15\n",
      "\n",
      "\n",
      "v =\n",
      "\n",
      "     4     6     8\n",
      "\n",
      "\n",
      "v =\n",
      "\n",
      "     9     7     5\n",
      "\n",
      "\n"
     ]
    }
   ],
   "source": [
    "v = linspace(-3,-15,5)\n",
    "v = linspace(4,8,3)\n",
    "v = linspace(9,5,3)"
   ]
  },
  {
   "cell_type": "markdown",
   "metadata": {},
   "source": [
    "## referrring values in a vector"
   ]
  },
  {
   "cell_type": "code",
   "execution_count": 16,
   "metadata": {},
   "outputs": [
    {
     "name": "stdout",
     "output_type": "stream",
     "text": [
      "\n",
      "nv =\n",
      "\n",
      "     1     3     5     7     9\n",
      "\n",
      "\n",
      "ls =\n",
      "\n",
      "     3     6     9    12    15\n",
      "\n",
      "\n",
      "newvec =\n",
      "\n",
      "     1     3     5     7     9     3     6     9    12    15\n",
      "\n",
      "\n"
     ]
    }
   ],
   "source": [
    "nv = 1:2:9\n",
    "ls = 3:3:15\n",
    "newvec = [nv ls]"
   ]
  },
  {
   "cell_type": "code",
   "execution_count": 17,
   "metadata": {},
   "outputs": [
    {
     "name": "stdout",
     "output_type": "stream",
     "text": [
      "\n",
      "ans =\n",
      "\n",
      "     7\n",
      "\n",
      "\n"
     ]
    }
   ],
   "source": [
    "newvec(4)"
   ]
  },
  {
   "cell_type": "markdown",
   "metadata": {},
   "source": [
    "#### referring multiple values in a vector \n",
    "(start index: finish index)"
   ]
  },
  {
   "cell_type": "code",
   "execution_count": 18,
   "metadata": {},
   "outputs": [
    {
     "name": "stdout",
     "output_type": "stream",
     "text": [
      "\n",
      "b =\n",
      "\n",
      "     7     9     3\n",
      "\n",
      "\n"
     ]
    }
   ],
   "source": [
    "b = newvec(4:6)"
   ]
  },
  {
   "cell_type": "code",
   "execution_count": 19,
   "metadata": {},
   "outputs": [
    {
     "name": "stdout",
     "output_type": "stream",
     "text": [
      "\n",
      "c =\n",
      "\n",
      "     1     9     9\n",
      "\n",
      "\n"
     ]
    }
   ],
   "source": [
    "c = newvec([1 5 8])"
   ]
  },
  {
   "cell_type": "markdown",
   "metadata": {},
   "source": [
    "## column vector\n"
   ]
  },
  {
   "cell_type": "code",
   "execution_count": 20,
   "metadata": {},
   "outputs": [
    {
     "name": "stdout",
     "output_type": "stream",
     "text": [
      "\n",
      "c =\n",
      "\n",
      "     1\n",
      "     2\n",
      "     3\n",
      "     4\n",
      "\n",
      "\n"
     ]
    }
   ],
   "source": [
    "c = [1;2;3;4]"
   ]
  },
  {
   "cell_type": "markdown",
   "metadata": {},
   "source": [
    "### row vector bisa di transform ke column"
   ]
  },
  {
   "cell_type": "code",
   "execution_count": 21,
   "metadata": {},
   "outputs": [
    {
     "name": "stdout",
     "output_type": "stream",
     "text": [
      "\n",
      "newvec =\n",
      "\n",
      "     1     3     5     7     9     3     6     9    12    15\n",
      "\n",
      "\n"
     ]
    }
   ],
   "source": [
    "newvec"
   ]
  },
  {
   "cell_type": "code",
   "execution_count": 22,
   "metadata": {},
   "outputs": [
    {
     "name": "stdout",
     "output_type": "stream",
     "text": [
      "\n",
      "ans =\n",
      "\n",
      "     1\n",
      "     3\n",
      "     5\n",
      "     7\n",
      "     9\n",
      "     3\n",
      "     6\n",
      "     9\n",
      "    12\n",
      "    15\n",
      "\n",
      "\n"
     ]
    }
   ],
   "source": [
    "newvec'"
   ]
  },
  {
   "cell_type": "markdown",
   "metadata": {},
   "source": [
    "## matrix variables\n",
    "> **PERINGATAN**\n",
    ">>JUMLAH ROW SAMA KOLOM HARUS SAMA"
   ]
  },
  {
   "cell_type": "code",
   "execution_count": 61,
   "metadata": {
    "scrolled": true
   },
   "outputs": [
    {
     "name": "stdout",
     "output_type": "stream",
     "text": [
      "\n",
      "mat =\n",
      "\n",
      "     4     3     1\n",
      "     2     4     5\n",
      "\n",
      "\n"
     ]
    }
   ],
   "source": [
    "mat = [4 3 1; 2 4 5]"
   ]
  },
  {
   "cell_type": "code",
   "execution_count": 26,
   "metadata": {},
   "outputs": [
    {
     "name": "stdout",
     "output_type": "stream",
     "text": [
      "\n",
      "mat =\n",
      "\n",
      "     2     3     4\n",
      "     5     6     7\n",
      "\n",
      "\n"
     ]
    }
   ],
   "source": [
    "mat = [2:4;5:7]"
   ]
  },
  {
   "cell_type": "markdown",
   "metadata": {},
   "source": [
    "#### bikin matrix 0 dengan size n*n"
   ]
  },
  {
   "cell_type": "code",
   "execution_count": 27,
   "metadata": {},
   "outputs": [
    {
     "name": "stdout",
     "output_type": "stream",
     "text": [
      "\n",
      "ans =\n",
      "\n",
      "     0     0     0\n",
      "     0     0     0\n",
      "     0     0     0\n",
      "\n",
      "\n"
     ]
    }
   ],
   "source": [
    "zeros(3)"
   ]
  },
  {
   "cell_type": "code",
   "execution_count": 28,
   "metadata": {},
   "outputs": [
    {
     "name": "stdout",
     "output_type": "stream",
     "text": [
      "\n",
      "ans =\n",
      "\n",
      "     0     0     0\n",
      "     0     0     0\n",
      "\n",
      "\n"
     ]
    }
   ],
   "source": [
    "zeros(2,3)"
   ]
  },
  {
   "cell_type": "markdown",
   "metadata": {},
   "source": [
    "### REFERRING VALUES IN A MATRIX"
   ]
  },
  {
   "cell_type": "code",
   "execution_count": 62,
   "metadata": {},
   "outputs": [
    {
     "name": "stdout",
     "output_type": "stream",
     "text": [
      "\n",
      "mat =\n",
      "\n",
      "     2     3     4\n",
      "     5     6     7\n",
      "\n",
      "\n"
     ]
    }
   ],
   "source": [
    "mat = [2:4;5:7]"
   ]
  },
  {
   "cell_type": "code",
   "execution_count": 33,
   "metadata": {},
   "outputs": [
    {
     "name": "stdout",
     "output_type": "stream",
     "text": [
      "\n",
      "ans =\n",
      "\n",
      "     6\n",
      "\n",
      "\n"
     ]
    }
   ],
   "source": [
    "mat(2,2)"
   ]
  },
  {
   "cell_type": "code",
   "execution_count": 35,
   "metadata": {},
   "outputs": [
    {
     "name": "stdout",
     "output_type": "stream",
     "text": [
      "\n",
      "ans =\n",
      "\n",
      "     3\n",
      "\n",
      "\n"
     ]
    }
   ],
   "source": [
    "mat(1,2)"
   ]
  },
  {
   "cell_type": "markdown",
   "metadata": {},
   "source": [
    "### referring subset in a matrix"
   ]
  },
  {
   "cell_type": "code",
   "execution_count": 36,
   "metadata": {},
   "outputs": [
    {
     "name": "stdout",
     "output_type": "stream",
     "text": [
      "\n",
      "ans =\n",
      "\n",
      "     2     3     4\n",
      "\n",
      "\n"
     ]
    }
   ],
   "source": [
    "mat(1,:)"
   ]
  },
  {
   "cell_type": "code",
   "execution_count": 37,
   "metadata": {},
   "outputs": [
    {
     "name": "stdout",
     "output_type": "stream",
     "text": [
      "\n",
      "ans =\n",
      "\n",
      "     5     6     7\n",
      "\n",
      "\n"
     ]
    }
   ],
   "source": [
    "mat(2,:)"
   ]
  },
  {
   "cell_type": "code",
   "execution_count": 38,
   "metadata": {},
   "outputs": [
    {
     "name": "stdout",
     "output_type": "stream",
     "text": [
      "\n",
      "ans =\n",
      "\n",
      "     3\n",
      "     6\n",
      "\n",
      "\n"
     ]
    }
   ],
   "source": [
    "mat(:,2)"
   ]
  },
  {
   "cell_type": "code",
   "execution_count": 39,
   "metadata": {},
   "outputs": [
    {
     "name": "stdout",
     "output_type": "stream",
     "text": [
      "\n",
      "ans =\n",
      "\n",
      "     2\n",
      "     5\n",
      "\n",
      "\n"
     ]
    }
   ],
   "source": [
    "mat(:,1)"
   ]
  },
  {
   "cell_type": "markdown",
   "metadata": {},
   "source": [
    "### changing values in a matrice"
   ]
  },
  {
   "cell_type": "code",
   "execution_count": 63,
   "metadata": {},
   "outputs": [
    {
     "name": "stdout",
     "output_type": "stream",
     "text": [
      "\n",
      "mat =\n",
      "\n",
      "     2     3     4\n",
      "     5     6     7\n",
      "\n",
      "\n",
      "ans =\n",
      "\n",
      "     2\n",
      "\n",
      "\n",
      "mat =\n",
      "\n",
      "     2    12     4\n",
      "     5     6     7\n",
      "\n",
      "\n",
      "mat =\n",
      "\n",
      "     2    12     4\n",
      "    11    12    13\n",
      "\n",
      "\n",
      "mat =\n",
      "\n",
      "     2    12     4    16\n",
      "    11    12    13    21\n",
      "\n",
      "\n"
     ]
    }
   ],
   "source": [
    "mat\n",
    "mat(1)\n",
    "mat(1,2) = 12\n",
    "mat(2,:) = [11:13]\n",
    "mat(:,4) = [16,21]"
   ]
  },
  {
   "cell_type": "markdown",
   "metadata": {},
   "source": [
    "<h1 color='red'>THIS VERSION OF MATLAB DOESN'T FILL WITH ZERO. IT'S SHIT</h1>"
   ]
  },
  {
   "cell_type": "markdown",
   "metadata": {},
   "source": [
    "## dimensions"
   ]
  },
  {
   "cell_type": "code",
   "execution_count": 65,
   "metadata": {},
   "outputs": [
    {
     "name": "stdout",
     "output_type": "stream",
     "text": [
      "\n",
      "mat =\n",
      "\n",
      "     2    12     4    16\n",
      "    11    12    13    21\n",
      "\n",
      "\n",
      "ans =\n",
      "\n",
      "     4\n",
      "\n",
      "\n",
      "ans =\n",
      "\n",
      "     2     4\n",
      "\n",
      "\n"
     ]
    }
   ],
   "source": [
    "mat\n",
    "length(mat)\n",
    "size(mat)"
   ]
  },
  {
   "cell_type": "code",
   "execution_count": 67,
   "metadata": {},
   "outputs": [
    {
     "name": "stdout",
     "output_type": "stream",
     "text": [
      "\n",
      "mat =\n",
      "\n",
      "     1     2     3     4     5     6     7     8     9\n",
      "\n",
      "\n",
      "ans =\n",
      "\n",
      "     9\n",
      "\n",
      "\n",
      "ans =\n",
      "\n",
      "     1     9\n",
      "\n",
      "\n"
     ]
    }
   ],
   "source": [
    "mat = [1:1:9]\n",
    "length(mat)\n",
    "size(mat)"
   ]
  },
  {
   "cell_type": "code",
   "execution_count": 82,
   "metadata": {},
   "outputs": [
    {
     "name": "stdout",
     "output_type": "stream",
     "text": [
      "\n",
      "ans(:,:,1) =\n",
      "\n",
      "    0.9572    0.8003    0.4218\n",
      "    0.4854    0.1419    0.9157\n",
      "\n",
      "\n",
      "ans(:,:,2) =\n",
      "\n",
      "    0.7922    0.6557    0.8491\n",
      "    0.9595    0.0357    0.9340\n",
      "\n",
      "\n",
      "ans(:,:,3) =\n",
      "\n",
      "    0.6787    0.7431    0.6555\n",
      "    0.7577    0.3922    0.1712\n",
      "\n",
      "\n",
      "ans(:,:,4) =\n",
      "\n",
      "    0.7060    0.2769    0.0971\n",
      "    0.0318    0.0462    0.8235\n",
      "\n",
      "\n",
      "ans(:,:,5) =\n",
      "\n",
      "    0.6948    0.9502    0.4387\n",
      "    0.3171    0.0344    0.3816\n",
      "\n",
      "\n"
     ]
    }
   ],
   "source": [
    "rand(2,3,5)"
   ]
  },
  {
   "cell_type": "markdown",
   "metadata": {},
   "source": [
    "## matlab scripts, algorithms"
   ]
  },
  {
   "cell_type": "code",
   "execution_count": 83,
   "metadata": {},
   "outputs": [
    {
     "name": "stdout",
     "output_type": "stream",
     "text": [
      "\n",
      "radius =\n",
      "\n",
      "     5\n",
      "\n",
      "\n",
      "area =\n",
      "\n",
      "   78.5398\n",
      "\n",
      "\n"
     ]
    }
   ],
   "source": [
    "radius = 5\n",
    "area = pi * (radius^2)"
   ]
  },
  {
   "cell_type": "code",
   "execution_count": 84,
   "metadata": {},
   "outputs": [
    {
     "name": "stdout",
     "output_type": "stream",
     "text": [
      "\n",
      "radius =\n",
      "\n",
      "     5\n",
      "\n",
      "\n",
      "area =\n",
      "\n",
      "   78.5398\n",
      "\n",
      "\n"
     ]
    }
   ],
   "source": [
    "% this program calculates area of a circle\n",
    "\n",
    "% describe shit in this comments\n",
    "radius = 5\n",
    "\n",
    "% calculate area based on radius \n",
    "area = pi * (radius^2)"
   ]
  },
  {
   "cell_type": "markdown",
   "metadata": {},
   "source": [
    "## input output"
   ]
  },
  {
   "cell_type": "code",
   "execution_count": 85,
   "metadata": {
    "scrolled": false
   },
   "outputs": [
    {
     "name": "stderr",
     "output_type": "stream",
     "text": [
      "\u001b[1;31m\n",
      "  File C:\\Program Files\\MATLAB\\R2018b\\toolbox\\matlab\\external\\engines\\engine_api\\+matlab\\+internal\\+engine\\input.m, line 20, in input\n",
      "'input' command is not supported for MATLAB launched by Engine without Desktop.\n",
      "\n",
      "\u001b[0m"
     ]
    },
    {
     "ename": "Error",
     "evalue": -1,
     "output_type": "error",
     "traceback": "\n  File C:\\Program Files\\MATLAB\\R2018b\\toolbox\\matlab\\external\\engines\\engine_api\\+matlab\\+internal\\+engine\\input.m, line 20, in input\n'input' command is not supported for MATLAB launched by Engine without Desktop.\n"
    }
   ],
   "source": [
    "rad = input('enter the radius')\n"
   ]
  },
  {
   "cell_type": "markdown",
   "metadata": {},
   "source": [
    "### output using disp"
   ]
  },
  {
   "cell_type": "code",
   "execution_count": 87,
   "metadata": {},
   "outputs": [
    {
     "name": "stdout",
     "output_type": "stream",
     "text": [
      "Ello\n",
      "\n"
     ]
    }
   ],
   "source": [
    "% wajib string\n",
    "disp('Ello')"
   ]
  },
  {
   "cell_type": "code",
   "execution_count": 88,
   "metadata": {},
   "outputs": [
    {
     "name": "stdout",
     "output_type": "stream",
     "text": [
      "    15\n",
      "\n",
      "\n"
     ]
    }
   ],
   "source": [
    "disp(5*3)"
   ]
  },
  {
   "cell_type": "markdown",
   "metadata": {},
   "source": [
    "### fprintf"
   ]
  },
  {
   "cell_type": "code",
   "execution_count": 89,
   "metadata": {},
   "outputs": [
    {
     "name": "stdout",
     "output_type": "stream",
     "text": [
      "the values is 262144\n"
     ]
    }
   ],
   "source": [
    "fprintf('the values is %d',4^9)"
   ]
  },
  {
   "cell_type": "markdown",
   "metadata": {},
   "source": [
    "%d integers   \n",
    "%f floats   \n",
    "%c single characters   \n",
    "%s strings    "
   ]
  },
  {
   "cell_type": "markdown",
   "metadata": {},
   "source": [
    "## plot function"
   ]
  },
  {
   "cell_type": "code",
   "execution_count": 98,
   "metadata": {},
   "outputs": [
    {
     "name": "stdout",
     "output_type": "stream",
     "text": [
      "\n",
      "x =\n",
      "\n",
      "     1     2     3     4     5     6\n",
      "\n",
      "\n",
      "y =\n",
      "\n",
      "    0.1966    0.2511    0.6160    0.4733    0.3517    0.8308\n",
      "\n",
      "\n"
     ]
    },
    {
     "data": {
      "image/png": "[encoded data removed]",
      "text/plain": [
       "<IPython.core.display.Image object>"
      ]
     },
     "metadata": {},
     "output_type": "display_data"
    }
   ],
   "source": [
    "x = [1:6]\n",
    "y = rand(1,6)\n",
    "plot(x,y,'r')"
   ]
  },
  {
   "cell_type": "markdown",
   "metadata": {},
   "source": [
    "## file input output"
   ]
  },
  {
   "cell_type": "markdown",
   "metadata": {},
   "source": [
    "### writing file"
   ]
  },
  {
   "cell_type": "markdown",
   "metadata": {},
   "source": [
    "### reading file"
   ]
  },
  {
   "cell_type": "markdown",
   "metadata": {},
   "source": [
    "## Define Function "
   ]
  },
  {
   "cell_type": "markdown",
   "metadata": {},
   "source": [
    "# selection / conditional\n",
    "## relational expression \n",
    "![](https://i.imgur.com/r2ARC2c.png)\n",
    "![](https://i.imgur.com/rh4rgHB.png)\n"
   ]
  },
  {
   "cell_type": "markdown",
   "metadata": {},
   "source": [
    "## if statement\n",
    "```matlab \n",
    "if condition \n",
    "    action1\n",
    "end```"
   ]
  },
  {
   "cell_type": "code",
   "execution_count": 101,
   "metadata": {},
   "outputs": [
    {
     "name": "stdout",
     "output_type": "stream",
     "text": [
      "\n",
      "num =\n",
      "\n",
      "     5\n",
      "\n",
      "num is indeed less than 9\n",
      "\n",
      "num =\n",
      "\n",
      "   -40\n",
      "\n",
      "\n"
     ]
    }
   ],
   "source": [
    "num =5\n",
    "if num < 9\n",
    "    disp('num is indeed less than 9');\n",
    "    num = num-(num*9);\n",
    "end"
   ]
  },
  {
   "cell_type": "code",
   "execution_count": 102,
   "metadata": {},
   "outputs": [
    {
     "name": "stdout",
     "output_type": "stream",
     "text": [
      "oke berhasil\n",
      "\n"
     ]
    }
   ],
   "source": [
    "if 1\n",
    "    disp('oke berhasil')\n",
    "end"
   ]
  },
  {
   "cell_type": "code",
   "execution_count": 103,
   "metadata": {},
   "outputs": [
    {
     "name": "stdout",
     "output_type": "stream",
     "text": [
      "\n"
     ]
    }
   ],
   "source": [
    "if 0\n",
    "    disp('eh anying')\n",
    "end"
   ]
  },
  {
   "cell_type": "markdown",
   "metadata": {},
   "source": [
    "## if-else\n",
    "```matlab \n",
    "if condition \n",
    "    action1\n",
    "else\n",
    "    action2\n",
    "end```"
   ]
  },
  {
   "cell_type": "code",
   "execution_count": 114,
   "metadata": {},
   "outputs": [
    {
     "name": "stdout",
     "output_type": "stream",
     "text": [
      "it was less than 0.5\n",
      "\n"
     ]
    }
   ],
   "source": [
    "if rand <0.5\n",
    "    disp('it was less than 0.5')\n",
    "else\n",
    "    disp('not less than 5')\n",
    "end"
   ]
  },
  {
   "cell_type": "markdown",
   "metadata": {},
   "source": [
    "## nested if, with elseif"
   ]
  },
  {
   "cell_type": "code",
   "execution_count": 116,
   "metadata": {},
   "outputs": [
    {
     "name": "stdout",
     "output_type": "stream",
     "text": [
      "\n",
      "x =\n",
      "\n",
      "    5.5000\n",
      "\n",
      "x is a non-integer value between 3 and 6\n",
      "\n"
     ]
    }
   ],
   "source": [
    "x = 5.5\n",
    "if x > 6\n",
    "    disp('x is greater than 6')\n",
    "elseif x >= 3 && x <= 6\n",
    "      if mod(x,1) ~= 0\n",
    "          disp('x is a non-integer value between 3 and 6')\n",
    "      else\n",
    "          disp('x is a integer value between 3 and 6')\n",
    "      end\n",
    "elseif x < 3\n",
    "    disp('x is less than 6')\n",
    "end"
   ]
  },
  {
   "cell_type": "code",
   "execution_count": 132,
   "metadata": {},
   "outputs": [
    {
     "name": "stdout",
     "output_type": "stream",
     "text": [
      "\n",
      "temp =\n",
      "\n",
      "   400\n",
      "\n",
      "temp is low\n",
      "\n"
     ]
    }
   ],
   "source": [
    "temp = 400\n",
    "\n",
    "if temp <6500\n",
    "    disp('temp is low')\n",
    "elseif temp >6500 && temp <20000\n",
    "    disp('temp is mid')\n",
    "else\n",
    "    disp('temp is high')\n",
    "end"
   ]
  },
  {
   "cell_type": "markdown",
   "metadata": {},
   "source": [
    "# is function"
   ]
  },
  {
   "cell_type": "code",
   "execution_count": 129,
   "metadata": {},
   "outputs": [
    {
     "name": "stdout",
     "output_type": "stream",
     "text": [
      "\n",
      "ans =\n",
      "\n",
      "  logical\n",
      "\n",
      "   1\n",
      "\n",
      "\n",
      "ans =\n",
      "\n",
      "  logical\n",
      "\n",
      "   0\n",
      "\n",
      "\n",
      "x =\n",
      "\n",
      "    5.5000\n",
      "\n",
      "\n",
      "ans =\n",
      "\n",
      "  logical\n",
      "\n",
      "   0\n",
      "\n",
      "\n"
     ]
    }
   ],
   "source": [
    "isletter('h')\n",
    "isletter(4)\n",
    "x\n",
    "isempty(x)\n"
   ]
  },
  {
   "cell_type": "markdown",
   "metadata": {},
   "source": [
    "# Looping"
   ]
  },
  {
   "cell_type": "markdown",
   "metadata": {},
   "source": [
    "## for"
   ]
  },
  {
   "cell_type": "code",
   "execution_count": null,
   "metadata": {},
   "outputs": [],
   "source": []
  },
  {
   "cell_type": "markdown",
   "metadata": {},
   "source": [
    "## while"
   ]
  },
  {
   "cell_type": "code",
   "execution_count": null,
   "metadata": {},
   "outputs": [],
   "source": []
  }
 ],
 "metadata": {
  "kernelspec": {
   "display_name": "Matlab",
   "language": "matlab",
   "name": "matlab"
  },
  "language_info": {
   "codemirror_mode": "octave",
   "file_extension": ".m",
   "help_links": [
    {
     "text": "MetaKernel Magics",
     "url": "https://github.com/calysto/metakernel/blob/master/metakernel/magics/README.md"
    }
   ],
   "mimetype": "text/x-octave",
   "name": "matlab",
   "version": "0.16.1"
  }
 },
 "nbformat": 4,
 "nbformat_minor": 2
}
